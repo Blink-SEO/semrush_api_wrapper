{
  "cells": [
    {
      "cell_type": "markdown",
      "metadata": {
        "id": "view-in-github",
        "colab_type": "text"
      },
      "source": [
        "<a href=\"https://colab.research.google.com/github/Blink-SEO/semrush_api_wrapper/blob/main/SemrushApiWrapperDemo.ipynb\" target=\"_parent\"><img src=\"https://colab.research.google.com/assets/colab-badge.svg\" alt=\"Open In Colab\"/></a>"
      ]
    },
    {
      "cell_type": "markdown",
      "metadata": {
        "id": "WjbMHBj8Eu7s"
      },
      "source": [
        "# Installing packages\n",
        "\n",
        "We clone the semrush_api_wrapper package from the Blink-SEO GitHub repo. \n",
        "\n",
        "email: joshua@blinkseo.co.uk\n",
        "github repo: https://github.com/Blink-SEO/semrush_api_wrapper"
      ]
    },
    {
      "cell_type": "code",
      "execution_count": 1,
      "metadata": {
        "id": "a7r6LhKh_HKa",
        "colab": {
          "base_uri": "https://localhost:8080/"
        },
        "outputId": "9becaa7d-159b-4f98-dab6-38528290f440"
      },
      "outputs": [
        {
          "output_type": "stream",
          "name": "stdout",
          "text": [
            "Cloning into 'semrush_api_wrapper'...\n",
            "remote: Enumerating objects: 27, done.\u001b[K\n",
            "remote: Counting objects: 100% (27/27), done.\u001b[K\n",
            "remote: Compressing objects: 100% (21/21), done.\u001b[K\n",
            "remote: Total 27 (delta 8), reused 22 (delta 5), pack-reused 0\u001b[K\n",
            "Unpacking objects: 100% (27/27), done.\n"
          ]
        }
      ],
      "source": [
        "!git clone https://github.com/Blink-SEO/semrush_api_wrapper.git"
      ]
    },
    {
      "cell_type": "code",
      "execution_count": 2,
      "metadata": {
        "id": "v2JJuil8_y6i"
      },
      "outputs": [],
      "source": [
        "from semrush_api_wrapper.utils import load_from_key"
      ]
    },
    {
      "cell_type": "markdown",
      "metadata": {
        "id": "dKS8Cg7VGkuh"
      },
      "source": [
        "# Creating a SemRush client\n",
        "\n",
        "SemRush does not provide a python client library for its API, but it has some setailed docs on the RESTful API which makes it easy to build a wrapper for the serivce using python's `requests` package\n",
        "\n",
        "All you need from your own SEMRush account is an API key, which is string of 32 lowercase letters and numbers. "
      ]
    },
    {
      "cell_type": "code",
      "execution_count": 4,
      "metadata": {
        "id": "CPZ2jyGHI0SA"
      },
      "outputs": [],
      "source": [
        "SEMRUSH_API_KEY = 'c61c9099d30563f1e9e95d955a4a9c93'  # One of Blink-SEO's customer ids, paste your own here (wrapped in \"\" and without hyphens)  "
      ]
    },
    {
      "cell_type": "code",
      "execution_count": 5,
      "metadata": {
        "id": "tZn6FQOWd3eC"
      },
      "outputs": [],
      "source": [
        "srclient = load_from_key(key=SEMRUSH_API_KEY, default_database=\"uk\")"
      ]
    },
    {
      "cell_type": "markdown",
      "metadata": {
        "id": "Z4HSkyRKH69g"
      },
      "source": [
        "# Using the wrapper\n",
        "\n",
        "Now we have our SemRushClient object, returned by our `load_from_key` function.\n",
        "\n",
        "The SemRushClient has methods corresponding to each of the API calls listed at https://developer.semrush.com/api/v3/"
      ]
    },
    {
      "cell_type": "code",
      "execution_count": 6,
      "metadata": {
        "id": "_wEA7gGQGCOt",
        "colab": {
          "base_uri": "https://localhost:8080/",
          "height": 159
        },
        "outputId": "31f02926-6481-4b0a-e20a-b6e4cce47fcd"
      },
      "outputs": [
        {
          "output_type": "stream",
          "name": "stdout",
          "text": [
            "semrushapi_wrapper response cost 30 api credits\n"
          ]
        },
        {
          "output_type": "execute_result",
          "data": {
            "text/plain": [
              "              phrase sr_search_volume sr_cpc sr_competition  \\\n",
              "0  chocolate pudding             5400   0.41           0.94   \n",
              "1          hot fudge              480   0.52            0.4   \n",
              "2          ice cream           301000   1.19            0.6   \n",
              "\n",
              "  sr_number_of_results                                          sr_trends  \\\n",
              "0            390000000  0.81,0.54,0.67,0.44,0.44,0.54,0.54,0.67,0.81,1...   \n",
              "1             69500000  0.30,0.24,1.00,0.24,0.24,0.24,0.20,0.30,0.24,0...   \n",
              "2           6650000000  0.16,0.25,1.00,0.55,0.67,0.82,0.67,0.45,0.16,0...   \n",
              "\n",
              "  sr_intent  \n",
              "0         1  \n",
              "1         1  \n",
              "2         0  "
            ],
            "text/html": [
              "\n",
              "  <div id=\"df-c47ee1d0-d26d-47ae-8c32-93941b24e37e\">\n",
              "    <div class=\"colab-df-container\">\n",
              "      <div>\n",
              "<style scoped>\n",
              "    .dataframe tbody tr th:only-of-type {\n",
              "        vertical-align: middle;\n",
              "    }\n",
              "\n",
              "    .dataframe tbody tr th {\n",
              "        vertical-align: top;\n",
              "    }\n",
              "\n",
              "    .dataframe thead th {\n",
              "        text-align: right;\n",
              "    }\n",
              "</style>\n",
              "<table border=\"1\" class=\"dataframe\">\n",
              "  <thead>\n",
              "    <tr style=\"text-align: right;\">\n",
              "      <th></th>\n",
              "      <th>phrase</th>\n",
              "      <th>sr_search_volume</th>\n",
              "      <th>sr_cpc</th>\n",
              "      <th>sr_competition</th>\n",
              "      <th>sr_number_of_results</th>\n",
              "      <th>sr_trends</th>\n",
              "      <th>sr_intent</th>\n",
              "    </tr>\n",
              "  </thead>\n",
              "  <tbody>\n",
              "    <tr>\n",
              "      <th>0</th>\n",
              "      <td>chocolate pudding</td>\n",
              "      <td>5400</td>\n",
              "      <td>0.41</td>\n",
              "      <td>0.94</td>\n",
              "      <td>390000000</td>\n",
              "      <td>0.81,0.54,0.67,0.44,0.44,0.54,0.54,0.67,0.81,1...</td>\n",
              "      <td>1</td>\n",
              "    </tr>\n",
              "    <tr>\n",
              "      <th>1</th>\n",
              "      <td>hot fudge</td>\n",
              "      <td>480</td>\n",
              "      <td>0.52</td>\n",
              "      <td>0.4</td>\n",
              "      <td>69500000</td>\n",
              "      <td>0.30,0.24,1.00,0.24,0.24,0.24,0.20,0.30,0.24,0...</td>\n",
              "      <td>1</td>\n",
              "    </tr>\n",
              "    <tr>\n",
              "      <th>2</th>\n",
              "      <td>ice cream</td>\n",
              "      <td>301000</td>\n",
              "      <td>1.19</td>\n",
              "      <td>0.6</td>\n",
              "      <td>6650000000</td>\n",
              "      <td>0.16,0.25,1.00,0.55,0.67,0.82,0.67,0.45,0.16,0...</td>\n",
              "      <td>0</td>\n",
              "    </tr>\n",
              "  </tbody>\n",
              "</table>\n",
              "</div>\n",
              "      <button class=\"colab-df-convert\" onclick=\"convertToInteractive('df-c47ee1d0-d26d-47ae-8c32-93941b24e37e')\"\n",
              "              title=\"Convert this dataframe to an interactive table.\"\n",
              "              style=\"display:none;\">\n",
              "        \n",
              "  <svg xmlns=\"http://www.w3.org/2000/svg\" height=\"24px\"viewBox=\"0 0 24 24\"\n",
              "       width=\"24px\">\n",
              "    <path d=\"M0 0h24v24H0V0z\" fill=\"none\"/>\n",
              "    <path d=\"M18.56 5.44l.94 2.06.94-2.06 2.06-.94-2.06-.94-.94-2.06-.94 2.06-2.06.94zm-11 1L8.5 8.5l.94-2.06 2.06-.94-2.06-.94L8.5 2.5l-.94 2.06-2.06.94zm10 10l.94 2.06.94-2.06 2.06-.94-2.06-.94-.94-2.06-.94 2.06-2.06.94z\"/><path d=\"M17.41 7.96l-1.37-1.37c-.4-.4-.92-.59-1.43-.59-.52 0-1.04.2-1.43.59L10.3 9.45l-7.72 7.72c-.78.78-.78 2.05 0 2.83L4 21.41c.39.39.9.59 1.41.59.51 0 1.02-.2 1.41-.59l7.78-7.78 2.81-2.81c.8-.78.8-2.07 0-2.86zM5.41 20L4 18.59l7.72-7.72 1.47 1.35L5.41 20z\"/>\n",
              "  </svg>\n",
              "      </button>\n",
              "      \n",
              "  <style>\n",
              "    .colab-df-container {\n",
              "      display:flex;\n",
              "      flex-wrap:wrap;\n",
              "      gap: 12px;\n",
              "    }\n",
              "\n",
              "    .colab-df-convert {\n",
              "      background-color: #E8F0FE;\n",
              "      border: none;\n",
              "      border-radius: 50%;\n",
              "      cursor: pointer;\n",
              "      display: none;\n",
              "      fill: #1967D2;\n",
              "      height: 32px;\n",
              "      padding: 0 0 0 0;\n",
              "      width: 32px;\n",
              "    }\n",
              "\n",
              "    .colab-df-convert:hover {\n",
              "      background-color: #E2EBFA;\n",
              "      box-shadow: 0px 1px 2px rgba(60, 64, 67, 0.3), 0px 1px 3px 1px rgba(60, 64, 67, 0.15);\n",
              "      fill: #174EA6;\n",
              "    }\n",
              "\n",
              "    [theme=dark] .colab-df-convert {\n",
              "      background-color: #3B4455;\n",
              "      fill: #D2E3FC;\n",
              "    }\n",
              "\n",
              "    [theme=dark] .colab-df-convert:hover {\n",
              "      background-color: #434B5C;\n",
              "      box-shadow: 0px 1px 3px 1px rgba(0, 0, 0, 0.15);\n",
              "      filter: drop-shadow(0px 1px 2px rgba(0, 0, 0, 0.3));\n",
              "      fill: #FFFFFF;\n",
              "    }\n",
              "  </style>\n",
              "\n",
              "      <script>\n",
              "        const buttonEl =\n",
              "          document.querySelector('#df-c47ee1d0-d26d-47ae-8c32-93941b24e37e button.colab-df-convert');\n",
              "        buttonEl.style.display =\n",
              "          google.colab.kernel.accessAllowed ? 'block' : 'none';\n",
              "\n",
              "        async function convertToInteractive(key) {\n",
              "          const element = document.querySelector('#df-c47ee1d0-d26d-47ae-8c32-93941b24e37e');\n",
              "          const dataTable =\n",
              "            await google.colab.kernel.invokeFunction('convertToInteractive',\n",
              "                                                     [key], {});\n",
              "          if (!dataTable) return;\n",
              "\n",
              "          const docLinkHtml = 'Like what you see? Visit the ' +\n",
              "            '<a target=\"_blank\" href=https://colab.research.google.com/notebooks/data_table.ipynb>data table notebook</a>'\n",
              "            + ' to learn more about interactive tables.';\n",
              "          element.innerHTML = '';\n",
              "          dataTable['output_type'] = 'display_data';\n",
              "          await google.colab.output.renderOutput(dataTable, element);\n",
              "          const docLink = document.createElement('div');\n",
              "          docLink.innerHTML = docLinkHtml;\n",
              "          element.appendChild(docLink);\n",
              "        }\n",
              "      </script>\n",
              "    </div>\n",
              "  </div>\n",
              "  "
            ]
          },
          "metadata": {},
          "execution_count": 6
        }
      ],
      "source": [
        "# This code returns a batch keyword overview for the keywords \"hot fudge\", \"chocolate pudding\", \"ice cream\"\n",
        "srclient.batch_keyword_overview(phrases=[\"hot fudge\", \"chocolate pudding\", \"ice cream\"])"
      ]
    },
    {
      "cell_type": "code",
      "execution_count": 7,
      "metadata": {
        "id": "Ch8_hWs3RslI",
        "colab": {
          "base_uri": "https://localhost:8080/"
        },
        "outputId": "200d1d9d-c7d6-4634-fd08-a1b9dd60ece0"
      },
      "outputs": [
        {
          "output_type": "execute_result",
          "data": {
            "text/plain": [
              "30"
            ]
          },
          "metadata": {},
          "execution_count": 7
        }
      ],
      "source": [
        "srclient.cost"
      ]
    },
    {
      "cell_type": "code",
      "source": [
        ""
      ],
      "metadata": {
        "id": "GLq9tB7OeNdd"
      },
      "execution_count": null,
      "outputs": []
    }
  ],
  "metadata": {
    "colab": {
      "name": "SemrushApiWrapperDemo.ipynb",
      "provenance": [],
      "include_colab_link": true
    },
    "kernelspec": {
      "display_name": "Python 3 (ipykernel)",
      "language": "python",
      "name": "python3"
    },
    "language_info": {
      "codemirror_mode": {
        "name": "ipython",
        "version": 3
      },
      "file_extension": ".py",
      "mimetype": "text/x-python",
      "name": "python",
      "nbconvert_exporter": "python",
      "pygments_lexer": "ipython3",
      "version": "3.8.13"
    }
  },
  "nbformat": 4,
  "nbformat_minor": 0
}