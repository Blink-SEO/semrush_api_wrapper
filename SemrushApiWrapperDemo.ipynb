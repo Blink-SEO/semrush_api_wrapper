{
 "cells": [
  {
   "cell_type": "markdown",
   "metadata": {
    "colab_type": "text",
    "id": "view-in-github"
   },
   "source": [
    "<a href=\"https://colab.research.google.com/github/Blink-SEO/semrush_api_wrapper/blob/main/SemrushApiWrapperDemo.ipynb\" target=\"_parent\"><img src=\"https://colab.research.google.com/assets/colab-badge.svg\" alt=\"Open In Colab\"/></a>"
   ]
  },
  {
   "cell_type": "markdown",
   "metadata": {
    "id": "WjbMHBj8Eu7s"
   },
   "source": [
    "# Installing packages\n",
    "\n",
    "We clone the semrush_api_wrapper package from the Blink-SEO GitHub repo. \n",
    "\n",
    "email: joshua@blinkseo.co.uk\n",
    "github repo: https://github.com/Blink-SEO/semrush_api_wrapper"
   ]
  },
  {
   "cell_type": "code",
   "execution_count": null,
   "metadata": {
    "colab": {
     "base_uri": "https://localhost:8080/"
    },
    "id": "a7r6LhKh_HKa",
    "outputId": "9becaa7d-159b-4f98-dab6-38528290f440"
   },
   "outputs": [],
   "source": [
    "!git clone https://github.com/Blink-SEO/semrush_api_wrapper.git"
   ]
  },
  {
   "cell_type": "code",
   "execution_count": null,
   "metadata": {
    "id": "v2JJuil8_y6i"
   },
   "outputs": [],
   "source": [
    "from semrush_api_wrapper.utils import load_from_key"
   ]
  },
  {
   "cell_type": "markdown",
   "metadata": {
    "id": "dKS8Cg7VGkuh"
   },
   "source": [
    "# Creating a SemRush client\n",
    "\n",
    "SemRush does not provide a python client library for its API, but it has some setailed docs on the RESTful API which makes it easy to build a wrapper for the serivce using python's `requests` package\n",
    "\n",
    "All you need from your own SEMRush account is an API key, which is string of 32 lowercase letters and numbers. "
   ]
  },
  {
   "cell_type": "code",
   "execution_count": null,
   "metadata": {
    "id": "CPZ2jyGHI0SA"
   },
   "outputs": [],
   "source": [
    "SEMRUSH_API_KEY = \"\"  # One of Blink-SEO's customer ids, paste your own here (wrapped in \"\" and without hyphens)  "
   ]
  },
  {
   "cell_type": "code",
   "execution_count": null,
   "metadata": {
    "id": "tZn6FQOWd3eC"
   },
   "outputs": [],
   "source": [
    "srclient = load_from_key(key=SEMRUSH_API_KEY, default_database=\"uk\")"
   ]
  },
  {
   "cell_type": "markdown",
   "metadata": {
    "id": "Z4HSkyRKH69g"
   },
   "source": [
    "# Using the wrapper\n",
    "\n",
    "Now we have our SemRushClient object, returned by our `load_from_key` function.\n",
    "\n",
    "The SemRushClient has methods corresponding to each of the API calls listed at https://developer.semrush.com/api/v3/"
   ]
  },
  {
   "cell_type": "code",
   "execution_count": null,
   "metadata": {
    "colab": {
     "base_uri": "https://localhost:8080/",
     "height": 159
    },
    "id": "_wEA7gGQGCOt",
    "outputId": "31f02926-6481-4b0a-e20a-b6e4cce47fcd"
   },
   "outputs": [],
   "source": [
    "# This code returns a batch keyword overview for the keywords \"hot fudge\", \"chocolate pudding\", \"ice cream\"\n",
    "srclient.batch_keyword_overview(phrases=[\"hot fudge\", \"chocolate pudding\", \"ice cream\"])"
   ]
  },
  {
   "cell_type": "code",
   "execution_count": null,
   "metadata": {
    "colab": {
     "base_uri": "https://localhost:8080/"
    },
    "id": "Ch8_hWs3RslI",
    "outputId": "200d1d9d-c7d6-4634-fd08-a1b9dd60ece0"
   },
   "outputs": [],
   "source": [
    "srclient.cost"
   ]
  },
  {
   "cell_type": "code",
   "execution_count": null,
   "metadata": {
    "id": "GLq9tB7OeNdd"
   },
   "outputs": [],
   "source": []
  }
 ],
 "metadata": {
  "colab": {
   "include_colab_link": true,
   "name": "SemrushApiWrapperDemo.ipynb",
   "provenance": []
  },
  "kernelspec": {
   "display_name": "Python 3 (ipykernel)",
   "language": "python",
   "name": "python3"
  },
  "language_info": {
   "codemirror_mode": {
    "name": "ipython",
    "version": 3
   },
   "file_extension": ".py",
   "mimetype": "text/x-python",
   "name": "python",
   "nbconvert_exporter": "python",
   "pygments_lexer": "ipython3",
   "version": "3.8.13"
  }
 },
 "nbformat": 4,
 "nbformat_minor": 4
}
